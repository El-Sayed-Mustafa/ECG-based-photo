{
 "cells": [
  {
   "cell_type": "code",
   "execution_count": 1,
   "metadata": {},
   "outputs": [],
   "source": [
    "from tkinter import Tk, Label\n",
    "from PIL import Image, ImageTk\n",
    "import wfdb\n",
    "import numpy as np\n",
    "from scipy.signal import butter, filtfilt\n",
    "\n",
    "# Paths to the ECG data for the subjects\n",
    "subjects = {\n",
    "    's2': r'subjects\\p_156\\s0299lre',\n",
    "    's3': r'subjects\\p_165\\s0322lre',\n",
    "    's5': r'subjects\\p_180\\s0374lre',\n",
    "    's7': r'subjects\\p_184\\s0363lre',\n",
    "    's8': r'subjects\\p_166\\s0275lre',\n",
    "    's10': r'subjects\\sub_150\\s0287lre',\n",
    "    's13': r'subjects\\sub260\\s0496_re'\n",
    "}\n",
    "\n",
    "def load_ecg(subject_path):\n",
    "    record = wfdb.rdrecord(subject_path)\n",
    "    ecg_signal = record.p_signal[:, 0]  # Assuming the first channel is used\n",
    "    return ecg_signal"
   ]
  },
  {
   "cell_type": "code",
   "execution_count": 2,
   "metadata": {},
   "outputs": [
    {
     "name": "stdout",
     "output_type": "stream",
     "text": [
      "Subject s2: Single-channel\n",
      "Subject s3: Single-channel\n",
      "Subject s5: Single-channel\n",
      "Subject s7: Single-channel\n",
      "Subject s8: Single-channel\n",
      "Subject s10: Single-channel\n",
      "Subject s13: Single-channel\n"
     ]
    }
   ],
   "source": [
    "\n",
    "def check_channels(ecg_signal):\n",
    "    if ecg_signal.ndim == 1:\n",
    "        return \"Single-channel\"\n",
    "    elif ecg_signal.ndim == 2:\n",
    "        num_channels = ecg_signal.shape[1]\n",
    "        return f\"Multi-channel with {num_channels} channels\"\n",
    "    else:\n",
    "        return \"Unknown format\"\n",
    "\n",
    "# Load ECG data and check the number of channels for each subject\n",
    "for subject, path in subjects.items():\n",
    "    ecg_signal = load_ecg(path)\n",
    "    channel_info = check_channels(ecg_signal)\n",
    "    print(f\"Subject {subject}: {channel_info}\")\n"
   ]
  },
  {
   "cell_type": "code",
   "execution_count": 3,
   "metadata": {},
   "outputs": [],
   "source": [
    "from biosppy.signals import ecg\n",
    "\n",
    "def preprocess_with_drift_correction(ecg_signal):\n",
    "    # Apply baseline drift correction\n",
    "    corrected_ecg = ecg.ecg(signal=ecg_signal, sampling_rate=1000, show=False)\n",
    "    corrected_signal = corrected_ecg['filtered']\n",
    "    \n",
    "    # Apply bandpass filtering\n",
    "    nyquist = 0.5 * 1000\n",
    "    low = 0.5 / nyquist\n",
    "    high = 45 / nyquist\n",
    "    b, a = butter(1, [low, high], btype='band')\n",
    "    filtered_ecg = filtfilt(b, a, corrected_signal)\n",
    "    \n",
    "    return filtered_ecg\n",
    "\n",
    "ecg_data = {subject: preprocess_with_drift_correction(load_ecg(path)) for subject, path in subjects.items()}\n"
   ]
  },
  {
   "cell_type": "code",
   "execution_count": 4,
   "metadata": {},
   "outputs": [],
   "source": [
    "from scipy.signal import find_peaks\n",
    "\n",
    "def segment_ecg(ecg_signal, segment_length=600, threshold=None):\n",
    "    # Find R-peaks\n",
    "    peaks, _ = find_peaks(ecg_signal, distance=200, height=threshold)\n",
    "    segments = []\n",
    "    for peak in peaks:\n",
    "        start = max(0, peak - 200)\n",
    "        end = start + segment_length\n",
    "        if end <= len(ecg_signal):\n",
    "            segments.append(ecg_signal[start:end])\n",
    "    return segments\n",
    "\n",
    "segmented_data = {subject: segment_ecg(ecg, threshold=0.2) for subject, ecg in ecg_data.items()}\n"
   ]
  },
  {
   "cell_type": "code",
   "execution_count": 5,
   "metadata": {},
   "outputs": [
    {
     "name": "stdout",
     "output_type": "stream",
     "text": [
      "Subject s2 has 56 segments.\n",
      "Subject s3 has 224 segments.\n",
      "Subject s5 has 130 segments.\n",
      "Subject s7 has 165 segments.\n",
      "Subject s8 has 230 segments.\n",
      "Subject s10 has 255 segments.\n",
      "Subject s13 has 118 segments.\n"
     ]
    }
   ],
   "source": [
    "segment_counts = {subject: len(segments) for subject, segments in segmented_data.items()}\n",
    "\n",
    "for subject, count in segment_counts.items():\n",
    "    print(f\"Subject {subject} has {count} segments.\")"
   ]
  },
  {
   "cell_type": "code",
   "execution_count": 6,
   "metadata": {},
   "outputs": [],
   "source": [
    "import matplotlib.pyplot as plt\n",
    "\n",
    "subject = 's2'\n",
    "raw_ecg = load_ecg(subjects[subject])\n",
    "preprocessed_ecg = preprocess_with_drift_correction(raw_ecg)\n",
    "\n"
   ]
  },
  {
   "cell_type": "code",
   "execution_count": 7,
   "metadata": {},
   "outputs": [],
   "source": [
    "from scipy.fftpack import dct\n",
    "import pywt\n",
    "\n",
    "def extract_features(segment, method='dct'):\n",
    "    if method == 'dct':\n",
    "        return dct(segment, norm='ortho')\n",
    "    elif method == 'wavelet':\n",
    "        coeffs, _ = pywt.dwt(segment, 'db1')\n",
    "        return coeffs\n",
    "\n",
    "# Extract features for all segments\n",
    "features_dct = {subject: [extract_features(seg, method='dct') for seg in segments] for subject, segments in segmented_data.items()}\n",
    "features_wavelet = {subject: [extract_features(seg, method='wavelet') for seg in segments] for subject, segments in segmented_data.items()}\n"
   ]
  },
  {
   "cell_type": "markdown",
   "metadata": {},
   "source": []
  },
  {
   "cell_type": "code",
   "execution_count": 8,
   "metadata": {},
   "outputs": [],
   "source": [
    "from sklearn.svm import SVC\n",
    "from sklearn.neighbors import KNeighborsClassifier\n",
    "from sklearn.model_selection import train_test_split\n",
    "\n",
    "# Prepare data for classification\n",
    "def prepare_data(features):\n",
    "    X, y = [], []\n",
    "    for subject, seg_features in features.items():\n",
    "        X.extend(seg_features)\n",
    "        y.extend([subject] * len(seg_features))\n",
    "    return np.array(X), np.array(y)\n",
    "\n",
    "X_dct, y_dct = prepare_data(features_dct)\n",
    "X_wavelet, y_wavelet = prepare_data(features_wavelet)\n",
    "\n",
    "# Split data into training and testing sets\n",
    "X_train_dct, X_test_dct, y_train_dct, y_test_dct = train_test_split(X_dct, y_dct, test_size=0.2)\n",
    "X_train_wavelet, X_test_wavelet, y_train_wavelet, y_test_wavelet = train_test_split(X_wavelet, y_wavelet, test_size=0.2)\n"
   ]
  },
  {
   "cell_type": "code",
   "execution_count": 21,
   "metadata": {},
   "outputs": [
    {
     "name": "stdout",
     "output_type": "stream",
     "text": [
      "SVM DCT Accuracy: 1.0\n",
      "SVM Wavelet Accuracy: 0.9957627118644068\n",
      "Random Forest DCT Accuracy: 0.9957627118644068\n",
      "Random Forest Wavelet Accuracy: 0.9957627118644068\n"
     ]
    }
   ],
   "source": [
    "from sklearn.svm import SVC\n",
    "from sklearn.ensemble import RandomForestClassifier\n",
    "from sklearn.model_selection import train_test_split\n",
    "from collections import Counter\n",
    "import joblib\n",
    "import os\n",
    "\n",
    "# Assuming X_train_dct, X_test_dct, y_train_dct, y_test_dct, X_train_wavelet, X_test_wavelet, y_train_wavelet, y_test_wavelet are already defined\n",
    "\n",
    "# Define paths to save the models\n",
    "model_dir = 'models'\n",
    "os.makedirs(model_dir, exist_ok=True)\n",
    "svm_dct_path = os.path.join(model_dir, 'svm_dct_model.pkl')\n",
    "svm_wavelet_path = os.path.join(model_dir, 'svm_wavelet_model.pkl')\n",
    "rf_dct_path = os.path.join(model_dir, 'rf_dct_model.pkl')\n",
    "rf_wavelet_path = os.path.join(model_dir, 'rf_wavelet_model.pkl')\n",
    "\n",
    "# Train SVM\n",
    "svm_dct = SVC(kernel='rbf', C=1, probability=True)\n",
    "svm_wavelet = SVC(kernel='rbf', C=1, probability=True)\n",
    "svm_dct.fit(X_train_dct, y_train_dct)\n",
    "svm_wavelet.fit(X_train_wavelet, y_train_wavelet)\n",
    "\n",
    "# Train Random Forest\n",
    "rf_dct = RandomForestClassifier(n_estimators=100)\n",
    "rf_wavelet = RandomForestClassifier(n_estimators=100)\n",
    "rf_dct.fit(X_train_dct, y_train_dct)\n",
    "rf_wavelet.fit(X_train_wavelet, y_train_wavelet)\n",
    "\n",
    "# Save the models\n",
    "joblib.dump(svm_dct, svm_dct_path)\n",
    "joblib.dump(svm_wavelet, svm_wavelet_path)\n",
    "joblib.dump(rf_dct, rf_dct_path)\n",
    "joblib.dump(rf_wavelet, rf_wavelet_path)\n",
    "\n",
    "# Evaluate classifiers\n",
    "svm_dct_accuracy = svm_dct.score(X_test_dct, y_test_dct)\n",
    "svm_wavelet_accuracy = svm_wavelet.score(X_test_wavelet, y_test_wavelet)\n",
    "rf_dct_accuracy = rf_dct.score(X_test_dct, y_test_dct)\n",
    "rf_wavelet_accuracy = rf_wavelet.score(X_test_wavelet, y_test_wavelet)\n",
    "\n",
    "print(f\"SVM DCT Accuracy: {svm_dct_accuracy}\")\n",
    "print(f\"SVM Wavelet Accuracy: {svm_wavelet_accuracy}\")\n",
    "print(f\"Random Forest DCT Accuracy: {rf_dct_accuracy}\")\n",
    "print(f\"Random Forest Wavelet Accuracy: {rf_wavelet_accuracy}\")\n"
   ]
  },
  {
   "cell_type": "code",
   "execution_count": 22,
   "metadata": {},
   "outputs": [
    {
     "name": "stdout",
     "output_type": "stream",
     "text": [
      "Identified Subject: s13 with confidence 0.9625164239330287\n"
     ]
    }
   ],
   "source": [
    "# Load models for testing\n",
    "svm_dct = joblib.load(svm_dct_path)\n",
    "svm_wavelet = joblib.load(svm_wavelet_path)\n",
    "rf_dct = joblib.load(rf_dct_path)\n",
    "rf_wavelet = joblib.load(rf_wavelet_path)\n",
    "\n",
    "def identify_subject(ecg_segment, method='dct', threshold=0.5):\n",
    "    features = extract_features(ecg_segment, method=method)\n",
    "    if method == 'dct':\n",
    "        svm_pred = svm_dct.predict([features])\n",
    "        rf_pred = rf_dct.predict([features])\n",
    "        svm_confidence = svm_dct.predict_proba([features])[0]\n",
    "        rf_confidence = rf_dct.predict_proba([features])[0]\n",
    "    else:\n",
    "        svm_pred = svm_wavelet.predict([features])\n",
    "        rf_pred = rf_wavelet.predict([features])\n",
    "        svm_confidence = svm_wavelet.predict_proba([features])[0]\n",
    "        rf_confidence = rf_wavelet.predict_proba([features])[0]\n",
    "\n",
    "    # Get the class with the highest confidence for each model\n",
    "    svm_max_confidence = max(svm_confidence)\n",
    "    rf_max_confidence = max(rf_confidence)\n",
    "\n",
    "    if svm_max_confidence >= rf_max_confidence:\n",
    "        final_pred = svm_pred[0]\n",
    "        final_confidence = svm_max_confidence\n",
    "    else:\n",
    "        final_pred = rf_pred[0]\n",
    "        final_confidence = rf_max_confidence\n",
    "\n",
    "    if final_confidence > threshold:\n",
    "        return final_pred, final_confidence\n",
    "    else:\n",
    "        return 'unidentified', final_confidence\n",
    "\n"
   ]
  },
  {
   "cell_type": "code",
   "execution_count": 26,
   "metadata": {},
   "outputs": [
    {
     "name": "stdout",
     "output_type": "stream",
     "text": [
      "Identified Subject: s13 with confidence 0.99\n"
     ]
    }
   ],
   "source": [
    "# Example usage\n",
    "ecg_segment = segmented_data['s13'][117]  # Use a segment from subject s13 as an example\n",
    "identified_subject, confidence = identify_subject(ecg_segment, method='dct', threshold=0.66)\n",
    "print(f\"Identified Subject: {identified_subject} with confidence {confidence}\")"
   ]
  },
  {
   "cell_type": "code",
   "execution_count": 12,
   "metadata": {},
   "outputs": [],
   "source": [
    "subjects = {\n",
    "    's2': r'subjects\\p_156\\s0299lre',\n",
    "    's3': r'subjects\\p_165\\s0322lre',\n",
    "    's5': r'subjects\\p_180\\s0374lre',\n",
    "    's7': r'subjects\\p_184\\s0363lre',\n",
    "    's8': r'subjects\\p_185\\s0336lre',\n",
    "    's10': r'subjects\\sub_150\\s0287lre',\n",
    "    's13': r'subjects\\sub260\\s0496_re'\n",
    "}"
   ]
  },
  {
   "cell_type": "code",
   "execution_count": 27,
   "metadata": {},
   "outputs": [
    {
     "name": "stdout",
     "output_type": "stream",
     "text": [
      "Identified Subject: ('unidentified', 0.47)\n"
     ]
    }
   ],
   "source": [
    "\n",
    "subjects_test = {\n",
    "    's1': r'subjects\\p_155\\s0301lre',\n",
    "    's2': r'subjects\\sub_170\\s0274lre',\n",
    "}\n",
    "ecg_data_test = {subject: preprocess_with_drift_correction(load_ecg(path)) for subject, path in subjects_test.items()}\n",
    "segmented_data_test = {subject: segment_ecg(ecg, threshold=0.2) for subject, ecg in ecg_data_test.items()}\n",
    "ecg_segment_test = segmented_data_test['s1'][0]\n",
    "\n",
    "\n",
    "identified_subject = identify_subject(ecg_segment_test, method='dct', threshold=0.6)\n",
    "print(f\"Identified Subject: {identified_subject}\")"
   ]
  },
  {
   "cell_type": "code",
   "execution_count": 28,
   "metadata": {},
   "outputs": [
    {
     "data": {
      "text/plain": [
       "<function __main__.on_ecg_acquired()>"
      ]
     },
     "execution_count": 28,
     "metadata": {},
     "output_type": "execute_result"
    }
   ],
   "source": [
    "from tkinter import Tk, Label, Button\n",
    "from PIL import Image, ImageTk\n",
    "\n",
    "# Paths to subject photos\n",
    "photos = {\n",
    "    's2': r'imgs/photo1.jpg',\n",
    "    's3': r'imgs/photo2.jpg',\n",
    "    's5': r'imgs/photo3.jpg',\n",
    "    's7': r'imgs/photo4.jpg',\n",
    "    's8': r'imgs/photo5.jpg',\n",
    "    's9': r'imgs/photo6.jpg',\n",
    "    's10': r'imgs/photo7.jpg',\n",
    "    's13': r'imgs/photo8.jpg'\n",
    "}\n",
    "\n",
    "\n",
    "# Load images\n",
    "def load_image(subject):\n",
    "    photo_path = photos.get(subject, 'imgs/photo3.jpg')\n",
    "    image = Image.open(photo_path)\n",
    "    photo = ImageTk.PhotoImage(image)\n",
    "    return photo\n",
    "\n",
    "# Show photo in the UI\n",
    "def show_photo(subject):\n",
    "    photo = load_image(subject)\n",
    "    label.config(image=photo)\n",
    "    label.image = photo  # Keep a reference to the image to prevent garbage collection\n",
    "\n",
    "# Function to simulate ECG segment acquisition and identification\n",
    "def on_ecg_acquired():\n",
    "    ecg_segment = segmented_data['s10'][0]  # Use a segment from subject s2 as an example\n",
    "    svm_pred, knn_pred = identify_subject(ecg_segment, method='dct')\n",
    "    identified_subject = majority_voting([svm_pred, knn_pred])\n",
    "    print(\"subb\"+ identified_subject)\n",
    "    show_photo(identified_subject)\n",
    "\n",
    "on_ecg_acquired"
   ]
  }
 ],
 "metadata": {
  "kernelspec": {
   "display_name": "myenv",
   "language": "python",
   "name": "python3"
  },
  "language_info": {
   "codemirror_mode": {
    "name": "ipython",
    "version": 3
   },
   "file_extension": ".py",
   "mimetype": "text/x-python",
   "name": "python",
   "nbconvert_exporter": "python",
   "pygments_lexer": "ipython3",
   "version": "3.7.12"
  }
 },
 "nbformat": 4,
 "nbformat_minor": 2
}
